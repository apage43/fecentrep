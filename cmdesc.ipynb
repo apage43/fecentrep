{
 "cells": [
  {
   "cell_type": "code",
   "execution_count": null,
   "metadata": {},
   "outputs": [],
   "source": [
    "import duckdb\n",
    "import pandas as pd\n",
    "import tqdm"
   ]
  },
  {
   "cell_type": "code",
   "execution_count": null,
   "metadata": {},
   "outputs": [],
   "source": [
    "cm = pd.read_parquet('./ncdf.parquet').reset_index()\n",
    "duck = duckdb.connect(':memory:')"
   ]
  },
  {
   "cell_type": "code",
   "execution_count": null,
   "metadata": {},
   "outputs": [],
   "source": [
    "# duck.sql(\"CREATE VIEW cm AS SELECT * FROM parquet_scan('cm.parquet');\")"
   ]
  },
  {
   "cell_type": "code",
   "execution_count": null,
   "metadata": {},
   "outputs": [],
   "source": [
    "duck.sql(\"CREATE VIEW itoth AS SELECT * FROM parquet_scan('interpactx.parquet/*.parquet');\")"
   ]
  },
  {
   "cell_type": "code",
   "execution_count": null,
   "metadata": {},
   "outputs": [],
   "source": [
    "duck.sql(\"CREATE TABLE interactions AS SELECT list_sort([CMTE_ID, OTHER_ID]) as pair, COUNT(*) as interaction_count FROM itoth GROUP BY pair ORDER BY interaction_count desc\")"
   ]
  },
  {
   "cell_type": "code",
   "execution_count": null,
   "metadata": {},
   "outputs": [],
   "source": [
    "duck.sql('SELECT * FROM interactions LIMIT 10')"
   ]
  },
  {
   "cell_type": "code",
   "execution_count": null,
   "metadata": {},
   "outputs": [],
   "source": [
    "cmrs = cm.to_dict('records')\n",
    "cmrs[0]"
   ]
  },
  {
   "cell_type": "code",
   "execution_count": null,
   "metadata": {},
   "outputs": [],
   "source": [
    "cmdesc = []\n",
    "for c in tqdm.tqdm(cmrs):\n",
    "    desc = f'{c[\"CMTE_NM\"]}\\n'\n",
    "    desc += f' {c[\"CMTE_CITY\"]}'\n",
    "    desc += f', {c[\"CMTE_ST\"]}\\n'\n",
    "    if c[\"CONNECTED_ORG_NM\"] and c['CONNECTED_ORG_NM'] not in ('UNK', 'N/A'):\n",
    "        desc += f'({c[\"CONNECTED_ORG_NM\"]})\\n'\n",
    "    if c[\"CMTE_PTY_AFFILIATION\"] and c['CMTE_PTY_AFFILIATION'] not in ('UNK', 'N/A'):\n",
    "        desc += f', {c[\"CMTE_PTY_AFFILIATION\"]} party\\n'\n",
    "    if c[\"TRES_NM\"] and c['TRES_NM'] not in ('UNK', 'N/A'):\n",
    "        desc += f', Treasurer {c[\"TRES_NM\"]}\\n'\n",
    "    # top_interactors = ', '.join(duck.sql(f'''\n",
    "    #     SELECT cmte_nm as other_nm, interaction_count FROM cm JOIN (\n",
    "    #     SELECT interaction_count, \n",
    "    #         list_filter(pair, c -> c != '{c[\"CMTE_ID\"]}')[1] AS other \n",
    "    #         FROM interactions WHERE list_contains(pair, '{c[\"CMTE_ID\"]}') ORDER BY interaction_count DESC LIMIT 5\n",
    "    #     ) ON other = cmte_id ORDER BY interaction_count DESC\n",
    "    # ''').df()['other_nm'])\n",
    "    # if top_interactors:\n",
    "    #     desc += f', Interacts with: {top_interactors}\\n'\n",
    "    cmdesc.append({'CMTE_ID': c['CMTE_ID'], 'desc': desc.lower()})"
   ]
  },
  {
   "cell_type": "code",
   "execution_count": null,
   "metadata": {},
   "outputs": [],
   "source": [
    "cd = pd.DataFrame(cmdesc)\n",
    "cd"
   ]
  },
  {
   "cell_type": "code",
   "execution_count": null,
   "metadata": {},
   "outputs": [],
   "source": [
    "cm.join(cd[['desc']]).to_parquet('./cmdesc.parquet')"
   ]
  },
  {
   "cell_type": "code",
   "execution_count": null,
   "metadata": {},
   "outputs": [],
   "source": []
  }
 ],
 "metadata": {
  "kernelspec": {
   "display_name": "fssd",
   "language": "python",
   "name": "python3"
  },
  "language_info": {
   "codemirror_mode": {
    "name": "ipython",
    "version": 3
   },
   "file_extension": ".py",
   "mimetype": "text/x-python",
   "name": "python",
   "nbconvert_exporter": "python",
   "pygments_lexer": "ipython3",
   "version": "3.10.9"
  },
  "orig_nbformat": 4
 },
 "nbformat": 4,
 "nbformat_minor": 2
}
