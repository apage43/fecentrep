{
 "cells": [
  {
   "cell_type": "code",
   "execution_count": null,
   "metadata": {
    "tags": []
   },
   "outputs": [],
   "source": [
    "from umap import UMAP\n",
    "import numpy as np\n",
    "import matplotlib.pyplot as plt\n",
    "import holoviews as hv\n",
    "hv.extension('bokeh', 'plotly')"
   ]
  },
  {
   "cell_type": "code",
   "execution_count": null,
   "metadata": {},
   "outputs": [],
   "source": [
    "import faiss\n",
    "from autofaiss import build_index"
   ]
  },
  {
   "cell_type": "code",
   "execution_count": null,
   "metadata": {
    "tags": []
   },
   "outputs": [],
   "source": [
    "from tblenc import FECNetPL, FECNetDataset, FECNetConfig\n",
    "import torch\n",
    "import pickle\n",
    "import pandas as pd\n",
    "import numpy as np\n",
    "\n",
    "cm = pd.read_parquet('./cm.parquet')\n",
    "fecdf = pd.read_parquet(\"./fecpreprocd.parquet\")\n",
    "\n",
    "with open(\"./meta.pkl\", \"rb\") as rf:\n",
    "    lbls = pickle.load(rf)\n",
    "cmdf = pd.DataFrame(lbls['ents'], columns=['CMTE_ID']).join(cm, on='CMTE_ID')\n",
    "len(cmdf)"
   ]
  },
  {
   "cell_type": "code",
   "execution_count": null,
   "metadata": {
    "scrolled": true,
    "tags": []
   },
   "outputs": [],
   "source": [
    "named_cmtes = cmdf.dropna(subset=['CMTE_NM'])\n",
    "named_cmtes.to_parquet('ncdf.parquet')"
   ]
  },
  {
   "cell_type": "code",
   "execution_count": null,
   "metadata": {
    "tags": []
   },
   "outputs": [],
   "source": [
    "fnds = FECNetDataset(lbls, fecdf)\n",
    "from pathlib import Path\n",
    "cdir = Path('./fec-ckpt')"
   ]
  },
  {
   "cell_type": "code",
   "execution_count": null,
   "metadata": {
    "tags": []
   },
   "outputs": [],
   "source": [
    "latest = sorted((c for c in cdir.glob('**/*.ckpt')), key=lambda c: c.stat().st_mtime)[-1]\n",
    "model = FECNetPL.load_from_checkpoint(str(latest))\n",
    "rawe = model.core.encoder.entity_embedding.weight.detach().cpu().numpy()\n",
    "toemb = rawe[named_cmtes.index.to_numpy()]\n",
    "latest"
   ]
  },
  {
   "cell_type": "code",
   "execution_count": null,
   "metadata": {},
   "outputs": [],
   "source": [
    "from sklearn.decomposition import PCA\n",
    "pca = PCA(n_components=2)\n",
    "pcaemb = pca.fit_transform(toemb)\n",
    "w=450\n",
    "h=w\n",
    "emb = pcaemb\n",
    "df = named_cmtes.assign(x=emb[:,0], y=emb[:,1])\n",
    "#df = df[df['CMTE_TP'] != 'N/A']|\n",
    "print(latest)\n",
    "(\n",
    "    hv.Points(df, kdims=['x', 'y']).opts(width=w, height=h, color='CMTE_TP', cmap='Category20').opts(tools=['hover']) +\n",
    "    hv.Points(df, kdims=['x', 'y']).opts(width=w, height=h, color='CMTE_DSGN', cmap='Category20') +\n",
    "    hv.Points(df, kdims=['x', 'y']).opts(width=w, height=h, color='CMTE_PTY_AFFILIATION', cmap='Category20').opts(tools=['hover']) + \n",
    "    hv.Points(df, kdims=['x', 'y']).opts(width=w, height=h, color='ORG_TP', cmap='Category20')\n",
    ").cols(2)"
   ]
  },
  {
   "cell_type": "code",
   "execution_count": null,
   "metadata": {},
   "outputs": [],
   "source": [
    "print(latest)\n",
    "dmap = UMAP(metric=\"cosine\", min_dist=0.01, verbose=True) #, n_neighbors=30)\n",
    "dmap.fit(toemb)\n",
    "uemb = dmap.embedding_\n",
    "w = 450\n",
    "h = w\n",
    "emb = uemb\n",
    "df = named_cmtes.assign(x=emb[:, 0], y=emb[:, 1])\n",
    "# df = df[df['CMTE_TP'] != 'N/A']\n",
    "print(latest)\n",
    "(\n",
    "    hv.Points(df, kdims=[\"x\", \"y\"]).opts(width=w, height=h, color=\"CMTE_TP\", cmap=\"Category20\").opts(tools=[\"hover\"])+ \n",
    "    hv.Points(df, kdims=[\"x\", \"y\"]).opts(width=w, height=h, color=\"CMTE_DSGN\", cmap=\"Category20\") + \n",
    "    hv.Points(df, kdims=[\"x\", \"y\"]).opts(width=w, height=h, color=\"CMTE_PTY_AFFILIATION\", cmap=\"Category20\") + \n",
    "    hv.Points(df, kdims=[\"x\", \"y\"]).opts(width=w, height=h, color=\"ORG_TP\", cmap=\"Category20\")\n",
    ").cols(2)"
   ]
  },
  {
   "cell_type": "code",
   "execution_count": null,
   "metadata": {},
   "outputs": [],
   "source": [
    "# df.to_parquet('./visdf.parquet', compression='zstd')"
   ]
  },
  {
   "cell_type": "code",
   "execution_count": null,
   "metadata": {},
   "outputs": [],
   "source": [
    "prep = rawe.copy()\n",
    "faiss.normalize_L2(prep)\n",
    "# prep = rawe\n",
    "np.save('./embeddings.npy', prep)"
   ]
  },
  {
   "cell_type": "code",
   "execution_count": null,
   "metadata": {},
   "outputs": [],
   "source": [
    "index, iinf = build_index(prep, metric_type='ip', use_gpu=False)"
   ]
  },
  {
   "cell_type": "code",
   "execution_count": null,
   "metadata": {},
   "outputs": [],
   "source": [
    "ds, ids = index.search(prep[3:4], 10)\n",
    "ds, ids"
   ]
  },
  {
   "cell_type": "code",
   "execution_count": null,
   "metadata": {},
   "outputs": [],
   "source": [
    "cmdf.loc[ids[0]]"
   ]
  },
  {
   "cell_type": "code",
   "execution_count": null,
   "metadata": {},
   "outputs": [],
   "source": [
    "from phate import PHATE"
   ]
  },
  {
   "cell_type": "code",
   "execution_count": null,
   "metadata": {},
   "outputs": [],
   "source": [
    "pop = PHATE(knn_dist='cosine', mds_dist='cosine')\n",
    "# pop = PHATE()\n",
    "pop.fit(toemb)\n",
    "pemb = pop.transform(toemb)\n",
    "w=450\n",
    "h=w\n",
    "emb = pemb\n",
    "df = named_cmtes.assign(x=emb[:,0], y=emb[:,1])\n",
    "#df = df[df['CMTE_TP'] != 'N/A']\n",
    "print(latest)\n",
    "(\n",
    "    hv.Points(df, kdims=['x', 'y']).opts(width=w, height=h, color='CMTE_TP', cmap='Category20').opts(tools=['hover']) +\n",
    "    hv.Points(df, kdims=['x', 'y']).opts(width=w, height=h, color='CMTE_DSGN', cmap='Category20') +\n",
    "    hv.Points(df, kdims=['x', 'y']).opts(width=w, height=h, color='CMTE_PTY_AFFILIATION', cmap='Category20') + \n",
    "    hv.Points(df, kdims=['x', 'y']).opts(width=w, height=h, color='ORG_TP', cmap='Category20')\n",
    ").cols(2)"
   ]
  },
  {
   "cell_type": "code",
   "execution_count": null,
   "metadata": {},
   "outputs": [],
   "source": [
    "cd = pd.read_parquet('./cmdesc.parquet')\n",
    "cd[['CMTE_NM', 'desc']]"
   ]
  },
  {
   "cell_type": "code",
   "execution_count": null,
   "metadata": {},
   "outputs": [],
   "source": [
    "dcmap = UMAP(metric=\"cosine\", verbose=True, n_components=100, min_dist=0.0, random_state=42, n_neighbors=30, n_jobs=-1)\n",
    "dcemb = dcmap.fit_transform(toemb)\n",
    "from hdbscan import HDBSCAN\n",
    "clusterer = HDBSCAN()\n",
    "clusterer.fit(dcemb)"
   ]
  },
  {
   "cell_type": "code",
   "execution_count": null,
   "metadata": {},
   "outputs": [],
   "source": [
    "cldf = named_cmtes.assign(cluster=clusterer.labels_)\n",
    "for g, df in cldf.groupby('cluster'):\n",
    "    print(f'Cluster {g} has {len(df)} members')\n",
    "    if g == -1:\n",
    "        continue\n",
    "    print(df[['CMTE_NM','CMTE_ID']])\n",
    "    print()"
   ]
  },
  {
   "cell_type": "code",
   "execution_count": null,
   "metadata": {},
   "outputs": [],
   "source": [
    "w=900\n",
    "h=w\n",
    "emb = uemb\n",
    "df = cldf.assign(x=emb[:,0], y=emb[:,1])\n",
    "hv.Points(df, kdims=['x', 'y']).opts(width=w, height=h, color='cluster', cmap='Category20').opts(tools=['hover'])"
   ]
  },
  {
   "cell_type": "code",
   "execution_count": null,
   "metadata": {},
   "outputs": [],
   "source": [
    "import sklearn\n",
    "from nomic import atlas"
   ]
  },
  {
   "cell_type": "code",
   "execution_count": null,
   "metadata": {},
   "outputs": [],
   "source": [
    "ap = atlas.map_embeddings(\n",
    "    name='US Federal Election Commission PAC embeddings', \n",
    "    description='Embeddings created from the \"Any transaction from one committee to another\" dataset (itoth.txt) from the Federal Election Commission',\n",
    "    id_field='CMTE_ID', \n",
    "    embeddings=sklearn.preprocessing.normalize(toemb),\n",
    "    #data=named_cmtes.assign(CMTE_NM=named_cmtes['CMTE_NM'].str.lower()).to_dict('records'),\n",
    "    data = cd.to_dict('records'),\n",
    "    topic_label_field='desc',\n",
    "    colorable_fields=['CMTE_TP', 'CMTE_DSGN', 'CMTE_PTY_AFFILIATION', 'ORG_TP'],\n",
    "    reset_project_if_exists=True,\n",
    "    build_topic_model=True,\n",
    "    projection_n_neighbors=30,\n",
    ")"
   ]
  },
  {
   "cell_type": "code",
   "execution_count": null,
   "metadata": {},
   "outputs": [],
   "source": [
    "from sklearn.manifold import TSNE\n",
    "tsop = TSNE(n_components=2, metric='cosine', n_jobs=-1, verbose=2, perplexity=50, n_iter=1500)\n",
    "temb = tsop.fit_transform(toemb)"
   ]
  },
  {
   "cell_type": "code",
   "execution_count": null,
   "metadata": {},
   "outputs": [],
   "source": [
    "w=450\n",
    "h=w\n",
    "emb = temb\n",
    "df = named_cmtes.assign(x=emb[:,0], y=emb[:,1])\n",
    "#df = df[df['CMTE_TP'] != 'N/A']|\n",
    "print(latest)\n",
    "(\n",
    "    hv.Points(df, kdims=['x', 'y']).opts(width=w, height=h, color='CMTE_TP', cmap='Category20').opts(tools=['hover']) +\n",
    "    hv.Points(df, kdims=['x', 'y']).opts(width=w, height=h, color='CMTE_DSGN', cmap='Category20') +\n",
    "    hv.Points(df, kdims=['x', 'y']).opts(width=w, height=h, color='CMTE_PTY_AFFILIATION', cmap='Category20').opts(tools=['hover']) + \n",
    "    hv.Points(df, kdims=['x', 'y']).opts(width=w, height=h, color='ORG_TP', cmap='Category20')\n",
    ").cols(2)"
   ]
  },
  {
   "cell_type": "code",
   "execution_count": null,
   "metadata": {},
   "outputs": [],
   "source": []
  }
 ],
 "metadata": {
  "kernelspec": {
   "display_name": "Python 3 (ipykernel)",
   "language": "python",
   "name": "python3"
  },
  "language_info": {
   "codemirror_mode": {
    "name": "ipython",
    "version": 3
   },
   "file_extension": ".py",
   "mimetype": "text/x-python",
   "name": "python",
   "nbconvert_exporter": "python",
   "pygments_lexer": "ipython3",
   "version": "3.10.9"
  },
  "vscode": {
   "interpreter": {
    "hash": "458c08adfae82791f5d7d5bbe5aa2a849245dbb6f9c55bfebc022c0c596c6e48"
   }
  }
 },
 "nbformat": 4,
 "nbformat_minor": 4
}
